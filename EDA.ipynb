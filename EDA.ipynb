{
 "cells": [
  {
   "cell_type": "markdown",
   "metadata": {},
   "source": [
    "## Exploar Data Analysis"
   ]
  },
  {
   "cell_type": "code",
   "execution_count": 51,
   "metadata": {},
   "outputs": [],
   "source": [
    "# import the necessary packages \n",
    "import numpy as np \n",
    "import pandas as pd \n",
    "import matplotlib.pyplot as plt \n",
    "import seaborn as sns \n",
    "from matplotlib import gridspec "
   ]
  },
  {
   "cell_type": "markdown",
   "metadata": {},
   "source": [
    "### Import data"
   ]
  },
  {
   "cell_type": "code",
   "execution_count": 52,
   "metadata": {},
   "outputs": [],
   "source": [
    "data = pd.read_csv(\"dataset_1st/training.csv\")"
   ]
  },
  {
   "cell_type": "code",
   "execution_count": 53,
   "metadata": {},
   "outputs": [
    {
     "data": {
      "text/html": [
       "<div>\n",
       "<style scoped>\n",
       "    .dataframe tbody tr th:only-of-type {\n",
       "        vertical-align: middle;\n",
       "    }\n",
       "\n",
       "    .dataframe tbody tr th {\n",
       "        vertical-align: top;\n",
       "    }\n",
       "\n",
       "    .dataframe thead th {\n",
       "        text-align: right;\n",
       "    }\n",
       "</style>\n",
       "<table border=\"1\" class=\"dataframe\">\n",
       "  <thead>\n",
       "    <tr style=\"text-align: right;\">\n",
       "      <th></th>\n",
       "      <th>txkey</th>\n",
       "      <th>locdt</th>\n",
       "      <th>loctm</th>\n",
       "      <th>chid</th>\n",
       "      <th>cano</th>\n",
       "      <th>contp</th>\n",
       "      <th>etymd</th>\n",
       "      <th>mchno</th>\n",
       "      <th>acqic</th>\n",
       "      <th>mcc</th>\n",
       "      <th>...</th>\n",
       "      <th>stocn</th>\n",
       "      <th>scity</th>\n",
       "      <th>stscd</th>\n",
       "      <th>ovrlt</th>\n",
       "      <th>flbmk</th>\n",
       "      <th>hcefg</th>\n",
       "      <th>csmcu</th>\n",
       "      <th>csmam</th>\n",
       "      <th>flg_3dsmk</th>\n",
       "      <th>label</th>\n",
       "    </tr>\n",
       "  </thead>\n",
       "  <tbody>\n",
       "    <tr>\n",
       "      <th>0</th>\n",
       "      <td>1c09727c939eb69ead2a4ce4072b8aa18992a64f01fcb4...</td>\n",
       "      <td>46</td>\n",
       "      <td>101812</td>\n",
       "      <td>84d2dc85d4da6a7fa284a11a4290d7e9a969163dcb4d82...</td>\n",
       "      <td>3dd5bf1e29e5e0baa789ce692fe5dbd34ff05173acf351...</td>\n",
       "      <td>5</td>\n",
       "      <td>1.0</td>\n",
       "      <td>cad752c5d05d2bdcc30d64fa4e68404c2d1f7be5d14d52...</td>\n",
       "      <td>8f6b3ff512a001e0d1988c6cd888ef8c74112fb71117e5...</td>\n",
       "      <td>375.0</td>\n",
       "      <td>...</td>\n",
       "      <td>0.0</td>\n",
       "      <td>15759.0</td>\n",
       "      <td>NaN</td>\n",
       "      <td>0</td>\n",
       "      <td>0</td>\n",
       "      <td>6.0</td>\n",
       "      <td>70.0</td>\n",
       "      <td>1529</td>\n",
       "      <td>0</td>\n",
       "      <td>0</td>\n",
       "    </tr>\n",
       "    <tr>\n",
       "      <th>1</th>\n",
       "      <td>2043f245a93bc6328dac964d6dbc89f13a0346062c194d...</td>\n",
       "      <td>17</td>\n",
       "      <td>85509</td>\n",
       "      <td>9a8cf5d0afd729cb7876f6b3172152c7c9c6fabd40515c...</td>\n",
       "      <td>8cb13f9b38c7bbc02d210e580dcbbcbb6c95bf18bc3320...</td>\n",
       "      <td>5</td>\n",
       "      <td>8.0</td>\n",
       "      <td>4356c6642ef6e837543b577c7ee3ffa92b4b8fcfb57254...</td>\n",
       "      <td>379166ff4a62dac343b4b734188aa618716cc496e48b65...</td>\n",
       "      <td>282.0</td>\n",
       "      <td>...</td>\n",
       "      <td>0.0</td>\n",
       "      <td>15759.0</td>\n",
       "      <td>NaN</td>\n",
       "      <td>0</td>\n",
       "      <td>0</td>\n",
       "      <td>8.0</td>\n",
       "      <td>70.0</td>\n",
       "      <td>101</td>\n",
       "      <td>0</td>\n",
       "      <td>0</td>\n",
       "    </tr>\n",
       "    <tr>\n",
       "      <th>2</th>\n",
       "      <td>e4853710290a8409279f3279f8032ae670824bd19aa173...</td>\n",
       "      <td>44</td>\n",
       "      <td>212641</td>\n",
       "      <td>dcc1389a5765d6f53152cf85970fbe78a83fd3d1c299b0...</td>\n",
       "      <td>1ec32868e5e1d5ff8df56737c2a91326cbfe3364382de6...</td>\n",
       "      <td>5</td>\n",
       "      <td>4.0</td>\n",
       "      <td>5b7eff061f8896aac4339ea35c25f8bb956a43bc486460...</td>\n",
       "      <td>8f6b3ff512a001e0d1988c6cd888ef8c74112fb71117e5...</td>\n",
       "      <td>288.0</td>\n",
       "      <td>...</td>\n",
       "      <td>0.0</td>\n",
       "      <td>15759.0</td>\n",
       "      <td>NaN</td>\n",
       "      <td>0</td>\n",
       "      <td>0</td>\n",
       "      <td>6.0</td>\n",
       "      <td>70.0</td>\n",
       "      <td>116</td>\n",
       "      <td>0</td>\n",
       "      <td>0</td>\n",
       "    </tr>\n",
       "    <tr>\n",
       "      <th>3</th>\n",
       "      <td>74d811b1dbc28b22b73ba2c79bb6033791d913b6d27a25...</td>\n",
       "      <td>42</td>\n",
       "      <td>102702</td>\n",
       "      <td>577f2329d1eccd59ba0abaf6113bb78dcd575badcbc57f...</td>\n",
       "      <td>4359dca1ac6a835eceb2bc0dd6b0b710f030c3499126e9...</td>\n",
       "      <td>5</td>\n",
       "      <td>1.0</td>\n",
       "      <td>cad752c5d05d2bdcc30d64fa4e68404c2d1f7be5d14d52...</td>\n",
       "      <td>36684976be1f529e6e2a32c9edab4cf8e364b2b916ae2c...</td>\n",
       "      <td>375.0</td>\n",
       "      <td>...</td>\n",
       "      <td>0.0</td>\n",
       "      <td>15759.0</td>\n",
       "      <td>NaN</td>\n",
       "      <td>0</td>\n",
       "      <td>0</td>\n",
       "      <td>6.0</td>\n",
       "      <td>70.0</td>\n",
       "      <td>1683</td>\n",
       "      <td>0</td>\n",
       "      <td>0</td>\n",
       "    </tr>\n",
       "    <tr>\n",
       "      <th>4</th>\n",
       "      <td>68ca182343969d429d79a34e532bc1ca7a3cc032c2ad81...</td>\n",
       "      <td>31</td>\n",
       "      <td>185737</td>\n",
       "      <td>fff6b4126c40620b1fbb11d4de02cd67b9e95071caa40b...</td>\n",
       "      <td>a3837f2905383f235a72679482c5f02e40f2a8ca29750d...</td>\n",
       "      <td>5</td>\n",
       "      <td>5.0</td>\n",
       "      <td>50d5b02ce3fc88723438c2a29cfdb04be4a1a11280ddb6...</td>\n",
       "      <td>379166ff4a62dac343b4b734188aa618716cc496e48b65...</td>\n",
       "      <td>406.0</td>\n",
       "      <td>...</td>\n",
       "      <td>0.0</td>\n",
       "      <td>15759.0</td>\n",
       "      <td>NaN</td>\n",
       "      <td>0</td>\n",
       "      <td>0</td>\n",
       "      <td>6.0</td>\n",
       "      <td>70.0</td>\n",
       "      <td>14</td>\n",
       "      <td>0</td>\n",
       "      <td>0</td>\n",
       "    </tr>\n",
       "  </tbody>\n",
       "</table>\n",
       "<p>5 rows × 26 columns</p>\n",
       "</div>"
      ],
      "text/plain": [
       "                                               txkey  locdt   loctm  \\\n",
       "0  1c09727c939eb69ead2a4ce4072b8aa18992a64f01fcb4...     46  101812   \n",
       "1  2043f245a93bc6328dac964d6dbc89f13a0346062c194d...     17   85509   \n",
       "2  e4853710290a8409279f3279f8032ae670824bd19aa173...     44  212641   \n",
       "3  74d811b1dbc28b22b73ba2c79bb6033791d913b6d27a25...     42  102702   \n",
       "4  68ca182343969d429d79a34e532bc1ca7a3cc032c2ad81...     31  185737   \n",
       "\n",
       "                                                chid  \\\n",
       "0  84d2dc85d4da6a7fa284a11a4290d7e9a969163dcb4d82...   \n",
       "1  9a8cf5d0afd729cb7876f6b3172152c7c9c6fabd40515c...   \n",
       "2  dcc1389a5765d6f53152cf85970fbe78a83fd3d1c299b0...   \n",
       "3  577f2329d1eccd59ba0abaf6113bb78dcd575badcbc57f...   \n",
       "4  fff6b4126c40620b1fbb11d4de02cd67b9e95071caa40b...   \n",
       "\n",
       "                                                cano  contp  etymd  \\\n",
       "0  3dd5bf1e29e5e0baa789ce692fe5dbd34ff05173acf351...      5    1.0   \n",
       "1  8cb13f9b38c7bbc02d210e580dcbbcbb6c95bf18bc3320...      5    8.0   \n",
       "2  1ec32868e5e1d5ff8df56737c2a91326cbfe3364382de6...      5    4.0   \n",
       "3  4359dca1ac6a835eceb2bc0dd6b0b710f030c3499126e9...      5    1.0   \n",
       "4  a3837f2905383f235a72679482c5f02e40f2a8ca29750d...      5    5.0   \n",
       "\n",
       "                                               mchno  \\\n",
       "0  cad752c5d05d2bdcc30d64fa4e68404c2d1f7be5d14d52...   \n",
       "1  4356c6642ef6e837543b577c7ee3ffa92b4b8fcfb57254...   \n",
       "2  5b7eff061f8896aac4339ea35c25f8bb956a43bc486460...   \n",
       "3  cad752c5d05d2bdcc30d64fa4e68404c2d1f7be5d14d52...   \n",
       "4  50d5b02ce3fc88723438c2a29cfdb04be4a1a11280ddb6...   \n",
       "\n",
       "                                               acqic    mcc  ...  stocn  \\\n",
       "0  8f6b3ff512a001e0d1988c6cd888ef8c74112fb71117e5...  375.0  ...    0.0   \n",
       "1  379166ff4a62dac343b4b734188aa618716cc496e48b65...  282.0  ...    0.0   \n",
       "2  8f6b3ff512a001e0d1988c6cd888ef8c74112fb71117e5...  288.0  ...    0.0   \n",
       "3  36684976be1f529e6e2a32c9edab4cf8e364b2b916ae2c...  375.0  ...    0.0   \n",
       "4  379166ff4a62dac343b4b734188aa618716cc496e48b65...  406.0  ...    0.0   \n",
       "\n",
       "     scity  stscd  ovrlt  flbmk  hcefg  csmcu  csmam  flg_3dsmk  label  \n",
       "0  15759.0    NaN      0      0    6.0   70.0   1529          0      0  \n",
       "1  15759.0    NaN      0      0    8.0   70.0    101          0      0  \n",
       "2  15759.0    NaN      0      0    6.0   70.0    116          0      0  \n",
       "3  15759.0    NaN      0      0    6.0   70.0   1683          0      0  \n",
       "4  15759.0    NaN      0      0    6.0   70.0     14          0      0  \n",
       "\n",
       "[5 rows x 26 columns]"
      ]
     },
     "execution_count": 53,
     "metadata": {},
     "output_type": "execute_result"
    }
   ],
   "source": [
    "data.head(5)"
   ]
  },
  {
   "cell_type": "markdown",
   "metadata": {},
   "source": [
    "### Columns index"
   ]
  },
  {
   "cell_type": "code",
   "execution_count": 54,
   "metadata": {},
   "outputs": [
    {
     "name": "stdout",
     "output_type": "stream",
     "text": [
      "Index(['txkey', 'locdt', 'loctm', 'chid', 'cano', 'contp', 'etymd', 'mchno',\n",
      "       'acqic', 'mcc', 'conam', 'ecfg', 'insfg', 'iterm', 'bnsfg', 'flam1',\n",
      "       'stocn', 'scity', 'stscd', 'ovrlt', 'flbmk', 'hcefg', 'csmcu', 'csmam',\n",
      "       'flg_3dsmk', 'label'],\n",
      "      dtype='object')\n"
     ]
    }
   ],
   "source": [
    "print(data.columns)"
   ]
  },
  {
   "cell_type": "code",
   "execution_count": 55,
   "metadata": {},
   "outputs": [],
   "source": [
    "col_desc = pd.read_excel(\"31_資料欄位說明.xlsx\", usecols=\"B:C\", nrows = 27)"
   ]
  },
  {
   "cell_type": "code",
   "execution_count": 56,
   "metadata": {},
   "outputs": [],
   "source": [
    "#print(col_desc)"
   ]
  },
  {
   "cell_type": "code",
   "execution_count": 57,
   "metadata": {},
   "outputs": [],
   "source": [
    "description = [\n",
    "    \"Transaction Serial Number\",\"Authorization Date\",\"Authorization Time\",\"Customer ID\",\"Transaction Card Number\",\"Transaction Type\",\"Transaction Mode\",\"Merchant Code\",\"Acquiring Institution Code\",\"MCC Code\",\"Transaction Amount in TWD\",\"Online Transaction Indicator\",\"Installment Transaction Indicator\",\"Installment Period\",\"Bonus Transaction Indicator\",\"Actual Payment Amount\",\"Consumption Country Code\",\"Consumption City Code\",\"Status Code\",\"Overlimit Indicator Code\",\"Fallback Indicator\",\"Payment Type\",\"Consumption Currency Code\",\"Consumption Amount\",\"3D Transaction Indicator\",\"Fraudulent Transaction Indicator\"\n",
    "]"
   ]
  },
  {
   "cell_type": "code",
   "execution_count": 58,
   "metadata": {},
   "outputs": [],
   "source": [
    "col_desc[\"Description\"] = description"
   ]
  },
  {
   "cell_type": "markdown",
   "metadata": {},
   "source": [
    "### Column Description"
   ]
  },
  {
   "cell_type": "code",
   "execution_count": 59,
   "metadata": {},
   "outputs": [
    {
     "data": {
      "text/html": [
       "<div>\n",
       "<style scoped>\n",
       "    .dataframe tbody tr th:only-of-type {\n",
       "        vertical-align: middle;\n",
       "    }\n",
       "\n",
       "    .dataframe tbody tr th {\n",
       "        vertical-align: top;\n",
       "    }\n",
       "\n",
       "    .dataframe thead th {\n",
       "        text-align: right;\n",
       "    }\n",
       "</style>\n",
       "<table border=\"1\" class=\"dataframe\">\n",
       "  <thead>\n",
       "    <tr style=\"text-align: right;\">\n",
       "      <th></th>\n",
       "      <th>訓練資料欄位名稱</th>\n",
       "      <th>訓練資料欄位中文說明</th>\n",
       "      <th>Description</th>\n",
       "    </tr>\n",
       "  </thead>\n",
       "  <tbody>\n",
       "    <tr>\n",
       "      <th>0</th>\n",
       "      <td>txkey</td>\n",
       "      <td>交易序號</td>\n",
       "      <td>Transaction Serial Number</td>\n",
       "    </tr>\n",
       "    <tr>\n",
       "      <th>1</th>\n",
       "      <td>locdt</td>\n",
       "      <td>授權日期</td>\n",
       "      <td>Authorization Date</td>\n",
       "    </tr>\n",
       "    <tr>\n",
       "      <th>2</th>\n",
       "      <td>loctm</td>\n",
       "      <td>授權時間</td>\n",
       "      <td>Authorization Time</td>\n",
       "    </tr>\n",
       "    <tr>\n",
       "      <th>3</th>\n",
       "      <td>chid</td>\n",
       "      <td>顧客ID</td>\n",
       "      <td>Customer ID</td>\n",
       "    </tr>\n",
       "    <tr>\n",
       "      <th>4</th>\n",
       "      <td>cano</td>\n",
       "      <td>交易卡號</td>\n",
       "      <td>Transaction Card Number</td>\n",
       "    </tr>\n",
       "    <tr>\n",
       "      <th>5</th>\n",
       "      <td>contp</td>\n",
       "      <td>交易類別</td>\n",
       "      <td>Transaction Type</td>\n",
       "    </tr>\n",
       "    <tr>\n",
       "      <th>6</th>\n",
       "      <td>etymd</td>\n",
       "      <td>交易型態</td>\n",
       "      <td>Transaction Mode</td>\n",
       "    </tr>\n",
       "    <tr>\n",
       "      <th>7</th>\n",
       "      <td>mchno</td>\n",
       "      <td>特店代號</td>\n",
       "      <td>Merchant Code</td>\n",
       "    </tr>\n",
       "    <tr>\n",
       "      <th>8</th>\n",
       "      <td>acqic</td>\n",
       "      <td>收單行代碼</td>\n",
       "      <td>Acquiring Institution Code</td>\n",
       "    </tr>\n",
       "    <tr>\n",
       "      <th>9</th>\n",
       "      <td>mcc</td>\n",
       "      <td>mcc_code</td>\n",
       "      <td>MCC Code</td>\n",
       "    </tr>\n",
       "    <tr>\n",
       "      <th>10</th>\n",
       "      <td>conam</td>\n",
       "      <td>交易金額-台幣</td>\n",
       "      <td>Transaction Amount in TWD</td>\n",
       "    </tr>\n",
       "    <tr>\n",
       "      <th>11</th>\n",
       "      <td>ecfg</td>\n",
       "      <td>網路交易註記</td>\n",
       "      <td>Online Transaction Indicator</td>\n",
       "    </tr>\n",
       "    <tr>\n",
       "      <th>12</th>\n",
       "      <td>insfg</td>\n",
       "      <td>是否分期交易</td>\n",
       "      <td>Installment Transaction Indicator</td>\n",
       "    </tr>\n",
       "    <tr>\n",
       "      <th>13</th>\n",
       "      <td>iterm</td>\n",
       "      <td>分期期數</td>\n",
       "      <td>Installment Period</td>\n",
       "    </tr>\n",
       "    <tr>\n",
       "      <th>14</th>\n",
       "      <td>bnsfg</td>\n",
       "      <td>是否紅利交易</td>\n",
       "      <td>Bonus Transaction Indicator</td>\n",
       "    </tr>\n",
       "    <tr>\n",
       "      <th>15</th>\n",
       "      <td>flam1</td>\n",
       "      <td>實付金額</td>\n",
       "      <td>Actual Payment Amount</td>\n",
       "    </tr>\n",
       "    <tr>\n",
       "      <th>16</th>\n",
       "      <td>stocn</td>\n",
       "      <td>消費地國別</td>\n",
       "      <td>Consumption Country Code</td>\n",
       "    </tr>\n",
       "    <tr>\n",
       "      <th>17</th>\n",
       "      <td>scity</td>\n",
       "      <td>消費城市</td>\n",
       "      <td>Consumption City Code</td>\n",
       "    </tr>\n",
       "    <tr>\n",
       "      <th>18</th>\n",
       "      <td>stscd</td>\n",
       "      <td>狀態碼</td>\n",
       "      <td>Status Code</td>\n",
       "    </tr>\n",
       "    <tr>\n",
       "      <th>19</th>\n",
       "      <td>ovrlt</td>\n",
       "      <td>超額註記碼</td>\n",
       "      <td>Overlimit Indicator Code</td>\n",
       "    </tr>\n",
       "    <tr>\n",
       "      <th>20</th>\n",
       "      <td>flbmk</td>\n",
       "      <td>Fallback註記</td>\n",
       "      <td>Fallback Indicator</td>\n",
       "    </tr>\n",
       "    <tr>\n",
       "      <th>21</th>\n",
       "      <td>hcefg</td>\n",
       "      <td>支付型態</td>\n",
       "      <td>Payment Type</td>\n",
       "    </tr>\n",
       "    <tr>\n",
       "      <th>22</th>\n",
       "      <td>csmcu</td>\n",
       "      <td>消費地幣別</td>\n",
       "      <td>Consumption Currency Code</td>\n",
       "    </tr>\n",
       "    <tr>\n",
       "      <th>23</th>\n",
       "      <td>csmam</td>\n",
       "      <td>消費地金額</td>\n",
       "      <td>Consumption Amount</td>\n",
       "    </tr>\n",
       "    <tr>\n",
       "      <th>24</th>\n",
       "      <td>flg_3dsmk</td>\n",
       "      <td>3D交易註記</td>\n",
       "      <td>3D Transaction Indicator</td>\n",
       "    </tr>\n",
       "    <tr>\n",
       "      <th>25</th>\n",
       "      <td>label</td>\n",
       "      <td>盜刷與否</td>\n",
       "      <td>Fraudulent Transaction Indicator</td>\n",
       "    </tr>\n",
       "  </tbody>\n",
       "</table>\n",
       "</div>"
      ],
      "text/plain": [
       "     訓練資料欄位名稱  訓練資料欄位中文說明                        Description\n",
       "0       txkey        交易序號          Transaction Serial Number\n",
       "1       locdt        授權日期                 Authorization Date\n",
       "2       loctm        授權時間                 Authorization Time\n",
       "3        chid        顧客ID                        Customer ID\n",
       "4        cano        交易卡號            Transaction Card Number\n",
       "5       contp        交易類別                   Transaction Type\n",
       "6       etymd        交易型態                   Transaction Mode\n",
       "7       mchno        特店代號                      Merchant Code\n",
       "8       acqic       收單行代碼         Acquiring Institution Code\n",
       "9         mcc    mcc_code                           MCC Code\n",
       "10      conam     交易金額-台幣          Transaction Amount in TWD\n",
       "11       ecfg      網路交易註記       Online Transaction Indicator\n",
       "12      insfg      是否分期交易  Installment Transaction Indicator\n",
       "13      iterm        分期期數                 Installment Period\n",
       "14      bnsfg      是否紅利交易        Bonus Transaction Indicator\n",
       "15      flam1        實付金額              Actual Payment Amount\n",
       "16      stocn       消費地國別           Consumption Country Code\n",
       "17      scity        消費城市              Consumption City Code\n",
       "18      stscd         狀態碼                        Status Code\n",
       "19      ovrlt       超額註記碼           Overlimit Indicator Code\n",
       "20      flbmk  Fallback註記                 Fallback Indicator\n",
       "21      hcefg        支付型態                       Payment Type\n",
       "22      csmcu       消費地幣別          Consumption Currency Code\n",
       "23      csmam       消費地金額                 Consumption Amount\n",
       "24  flg_3dsmk      3D交易註記           3D Transaction Indicator\n",
       "25      label        盜刷與否   Fraudulent Transaction Indicator"
      ]
     },
     "execution_count": 59,
     "metadata": {},
     "output_type": "execute_result"
    }
   ],
   "source": [
    "col_desc"
   ]
  },
  {
   "cell_type": "markdown",
   "metadata": {},
   "source": [
    "### Authorization Date, locdt"
   ]
  },
  {
   "cell_type": "code",
   "execution_count": 222,
   "metadata": {},
   "outputs": [
    {
     "data": {
      "text/plain": [
       "count                          8688526\n",
       "mean     2023-10-29 12:00:17.680698368\n",
       "min                2023-10-02 00:00:00\n",
       "25%                2023-10-15 00:00:00\n",
       "50%                2023-10-29 00:00:00\n",
       "75%                2023-11-12 00:00:00\n",
       "max                2023-11-26 00:00:00\n",
       "Name: locdt, dtype: object"
      ]
     },
     "execution_count": 222,
     "metadata": {},
     "output_type": "execute_result"
    }
   ],
   "source": [
    "data[\"locdt\"].describe()"
   ]
  },
  {
   "cell_type": "code",
   "execution_count": 60,
   "metadata": {},
   "outputs": [],
   "source": [
    "base_date = pd.to_datetime(\"2023-10-02\")\n",
    "data[\"locdt\"] = base_date + pd.to_timedelta(data[\"locdt\"], unit = \"D\")"
   ]
  },
  {
   "cell_type": "code",
   "execution_count": 44,
   "metadata": {},
   "outputs": [
    {
     "data": {
      "text/plain": [
       "Text(0.5, 1.0, 'Authorization Date Historgram')"
      ]
     },
     "execution_count": 44,
     "metadata": {},
     "output_type": "execute_result"
    },
    {
     "data": {
      "image/png": "[encoded data removed]",
      "text/plain": [
       "<Figure size 640x480 with 1 Axes>"
      ]
     },
     "metadata": {},
     "output_type": "display_data"
    }
   ],
   "source": [
    "plt.hist(data[\"combined_datetime\"])\n",
    "plt.title(\"Authorization Date Historgram\")"
   ]
  },
  {
   "cell_type": "markdown",
   "metadata": {},
   "source": [
    "### Authorization Time, loctm"
   ]
  },
  {
   "cell_type": "code",
   "execution_count": 61,
   "metadata": {},
   "outputs": [],
   "source": [
    "data[\"loctm\"] = data['loctm'].astype(str).str.zfill(6)"
   ]
  },
  {
   "cell_type": "code",
   "execution_count": 62,
   "metadata": {},
   "outputs": [],
   "source": [
    "data['loctm'] = data['loctm'].str[:2] + \":\" + data['loctm'].str[2:4] + \":\" + data['loctm'].str[4:]\n",
    "data[\"loctm\"] = pd.to_datetime(data[\"loctm\"], format = \"%H:%M:%S\")"
   ]
  },
  {
   "cell_type": "code",
   "execution_count": 63,
   "metadata": {},
   "outputs": [],
   "source": [
    "data[\"loctm\"] = data[\"loctm\"].dt.time"
   ]
  },
  {
   "cell_type": "code",
   "execution_count": 50,
   "metadata": {},
   "outputs": [
    {
     "data": {
      "image/png": "[encoded data removed]",
      "text/plain": [
       "<Figure size 640x480 with 1 Axes>"
      ]
     },
     "metadata": {},
     "output_type": "display_data"
    }
   ],
   "source": [
    "hour_lost = map(lambda x: x.hour, data[\"loctm\"])\n",
    "\n",
    "numbers=[x for x in range(0,24)]\n",
    "labels=map(lambda x: str(x), numbers)\n",
    "\n",
    "plt.xticks(numbers, labels)\n",
    "plt.xlim(0,24)\n",
    "plt.hist(hour_list)\n",
    "plt.title(\"Authorization Time Histogram\")\n",
    "plt.show()\n",
    "# 39.0s(for), 36.5s(map)"
   ]
  },
  {
   "cell_type": "markdown",
   "metadata": {},
   "source": [
    "### Combined datetime"
   ]
  },
  {
   "cell_type": "code",
   "execution_count": 64,
   "metadata": {},
   "outputs": [],
   "source": [
    "data[\"combined_datetime\"] = pd.to_datetime(data[\"locdt\"].astype(str)+\" \"+data[\"loctm\"].astype(str))"
   ]
  },
  {
   "cell_type": "markdown",
   "metadata": {},
   "source": [
    "### Customer ID, chid"
   ]
  },
  {
   "cell_type": "code",
   "execution_count": 72,
   "metadata": {},
   "outputs": [
    {
     "name": "stdout",
     "output_type": "stream",
     "text": [
      "0    84d2dc85d4da6a7fa284a11a4290d7e9a969163dcb4d82...\n",
      "1    9a8cf5d0afd729cb7876f6b3172152c7c9c6fabd40515c...\n",
      "2    dcc1389a5765d6f53152cf85970fbe78a83fd3d1c299b0...\n",
      "3    577f2329d1eccd59ba0abaf6113bb78dcd575badcbc57f...\n",
      "4    fff6b4126c40620b1fbb11d4de02cd67b9e95071caa40b...\n",
      "5    7bccecefb9c0271fec1b07dcce8b64b8f24a8d45e16376...\n",
      "Name: chid, dtype: object\n"
     ]
    }
   ],
   "source": [
    "print(data.loc[:5, \"chid\"])"
   ]
  },
  {
   "cell_type": "code",
   "execution_count": 86,
   "metadata": {},
   "outputs": [
    {
     "name": "stdout",
     "output_type": "stream",
     "text": [
      "Unique Costumer ID: 482667\n",
      "Number of data: 8688526\n"
     ]
    }
   ],
   "source": [
    "n_unique = data[\"chid\"].nunique()\n",
    "print(f\"Unique Costumer ID: {n_unique}\")\n",
    "print(f\"Number of data: {len(data)}\")"
   ]
  },
  {
   "cell_type": "code",
   "execution_count": 92,
   "metadata": {},
   "outputs": [
    {
     "name": "stdout",
     "output_type": "stream",
     "text": [
      "count\n",
      "1       54944\n",
      "2       44874\n",
      "3       32556\n",
      "4       27745\n",
      "5       23027\n",
      "        ...  \n",
      "334         1\n",
      "333         1\n",
      "268         1\n",
      "271         1\n",
      "9577        1\n",
      "Name: count, Length: 383, dtype: int64\n"
     ]
    }
   ],
   "source": [
    "time_id = data[\"chid\"].value_counts().value_counts()\n",
    "# time_id = time_id.reset_index\n",
    "print(time_id)"
   ]
  },
  {
   "cell_type": "code",
   "execution_count": 110,
   "metadata": {},
   "outputs": [],
   "source": [
    "time_id = time_id.sort_index()"
   ]
  },
  {
   "cell_type": "code",
   "execution_count": 115,
   "metadata": {},
   "outputs": [
    {
     "data": {
      "text/plain": [
       "<Axes: title={'center': 'Number of Transactions per Customer'}, ylabel='count'>"
      ]
     },
     "execution_count": 115,
     "metadata": {},
     "output_type": "execute_result"
    },
    {
     "data": {
      "image/png": "[encoded data removed]",
      "text/plain": [
       "<Figure size 640x480 with 1 Axes>"
      ]
     },
     "metadata": {},
     "output_type": "display_data"
    }
   ],
   "source": [
    "time_id[:20].plot(kind = \"barh\", title = \"Number of Transactions per Customer\")"
   ]
  },
  {
   "cell_type": "markdown",
   "metadata": {},
   "source": [
    "### Transaction Card Number, cano"
   ]
  },
  {
   "cell_type": "code",
   "execution_count": 117,
   "metadata": {},
   "outputs": [
    {
     "name": "stdout",
     "output_type": "stream",
     "text": [
      "0    3dd5bf1e29e5e0baa789ce692fe5dbd34ff05173acf351...\n",
      "1    8cb13f9b38c7bbc02d210e580dcbbcbb6c95bf18bc3320...\n",
      "2    1ec32868e5e1d5ff8df56737c2a91326cbfe3364382de6...\n",
      "3    4359dca1ac6a835eceb2bc0dd6b0b710f030c3499126e9...\n",
      "4    a3837f2905383f235a72679482c5f02e40f2a8ca29750d...\n",
      "Name: cano, dtype: object\n"
     ]
    }
   ],
   "source": [
    "print(data[\"cano\"].head())"
   ]
  },
  {
   "cell_type": "code",
   "execution_count": 118,
   "metadata": {},
   "outputs": [
    {
     "name": "stdout",
     "output_type": "stream",
     "text": [
      "Unique Transation Card Number: 618898\n",
      "Number of data: 8688526\n"
     ]
    }
   ],
   "source": [
    "n_unique_cano = data[\"cano\"].nunique()\n",
    "print(f\"Unique Transation Card Number: {n_unique_cano}\")\n",
    "print(f\"Number of data: {len(data)}\")"
   ]
  },
  {
   "cell_type": "code",
   "execution_count": 124,
   "metadata": {},
   "outputs": [
    {
     "data": {
      "text/plain": [
       "count\n",
       "1    96721\n",
       "2    73977\n",
       "3    49428\n",
       "4    40702\n",
       "5    31668\n",
       "Name: count, dtype: int64"
      ]
     },
     "execution_count": 124,
     "metadata": {},
     "output_type": "execute_result"
    }
   ],
   "source": [
    "time_cano = data[\"cano\"].value_counts().value_counts().sort_index()\n",
    "time_cano.head()"
   ]
  },
  {
   "cell_type": "code",
   "execution_count": 126,
   "metadata": {},
   "outputs": [
    {
     "data": {
      "text/plain": [
       "<Axes: title={'center': 'Transaction Card Number Frequency Plot'}, ylabel='count'>"
      ]
     },
     "execution_count": 126,
     "metadata": {},
     "output_type": "execute_result"
    },
    {
     "data": {
      "image/png": "[encoded data removed]",
      "text/plain": [
       "<Figure size 640x480 with 1 Axes>"
      ]
     },
     "metadata": {},
     "output_type": "display_data"
    }
   ],
   "source": [
    "time_cano[:20].plot(kind = \"barh\", title = \"Transaction Card Number Frequency Plot\")"
   ]
  },
  {
   "cell_type": "markdown",
   "metadata": {},
   "source": [
    "### Transaction Type, contp"
   ]
  },
  {
   "cell_type": "code",
   "execution_count": 128,
   "metadata": {},
   "outputs": [
    {
     "data": {
      "text/plain": [
       "contp\n",
       "5    8162669\n",
       "4     294966\n",
       "2     186995\n",
       "6      40766\n",
       "3       2983\n",
       "1         80\n",
       "0         67\n",
       "Name: count, dtype: int64"
      ]
     },
     "execution_count": 128,
     "metadata": {},
     "output_type": "execute_result"
    }
   ],
   "source": [
    "data[\"contp\"].value_counts()"
   ]
  },
  {
   "cell_type": "markdown",
   "metadata": {},
   "source": [
    "### Transaction Mode, etymd"
   ]
  },
  {
   "cell_type": "code",
   "execution_count": 130,
   "metadata": {},
   "outputs": [
    {
     "data": {
      "text/plain": [
       "etymd\n",
       "5.0     2463603\n",
       "4.0     2446956\n",
       "8.0     1980614\n",
       "1.0     1283373\n",
       "3.0      209619\n",
       "0.0       85308\n",
       "9.0       14873\n",
       "2.0         577\n",
       "10.0         85\n",
       "7.0          63\n",
       "Name: count, dtype: int64"
      ]
     },
     "execution_count": 130,
     "metadata": {},
     "output_type": "execute_result"
    }
   ],
   "source": [
    "data[\"etymd\"].value_counts()"
   ]
  },
  {
   "cell_type": "markdown",
   "metadata": {},
   "source": [
    "### Merchant Code, mchno"
   ]
  },
  {
   "cell_type": "code",
   "execution_count": 136,
   "metadata": {},
   "outputs": [
    {
     "data": {
      "text/plain": [
       "count\n",
       "1         55215\n",
       "2         21184\n",
       "3         11696\n",
       "4          8046\n",
       "5          5932\n",
       "          ...  \n",
       "141589        1\n",
       "158336        1\n",
       "258558        1\n",
       "323264        1\n",
       "360832        1\n",
       "Name: count, Length: 1485, dtype: int64"
      ]
     },
     "execution_count": 136,
     "metadata": {},
     "output_type": "execute_result"
    }
   ],
   "source": [
    "time_mchno = data[\"mchno\"].value_counts().value_counts().sort_index()\n",
    "time_mchno"
   ]
  },
  {
   "cell_type": "code",
   "execution_count": 139,
   "metadata": {},
   "outputs": [
    {
     "data": {
      "text/plain": [
       "<Axes: title={'center': 'Merchant Code Frequency Plot'}, ylabel='count'>"
      ]
     },
     "execution_count": 139,
     "metadata": {},
     "output_type": "execute_result"
    },
    {
     "data": {
      "image/png": "[encoded data removed]",
      "text/plain": [
       "<Figure size 640x480 with 1 Axes>"
      ]
     },
     "metadata": {},
     "output_type": "display_data"
    }
   ],
   "source": [
    "time_mchno[:10].plot(kind = \"barh\", title = \"Merchant Code Frequency Plot\")"
   ]
  },
  {
   "cell_type": "markdown",
   "metadata": {},
   "source": [
    "### Acquiring Institution Code, acqic"
   ]
  },
  {
   "cell_type": "code",
   "execution_count": 144,
   "metadata": {},
   "outputs": [
    {
     "name": "stdout",
     "output_type": "stream",
     "text": [
      "count\n",
      "1          1725\n",
      "2          1569\n",
      "3           703\n",
      "4           769\n",
      "5           417\n",
      "           ... \n",
      "614070        1\n",
      "669069        1\n",
      "728958        1\n",
      "793615        1\n",
      "2220622       1\n",
      "Name: count, Length: 442, dtype: int64\n"
     ]
    }
   ],
   "source": [
    "time_acqic = data[\"acqic\"].value_counts().value_counts().sort_index()\n",
    "print(time_acqic)"
   ]
  },
  {
   "cell_type": "code",
   "execution_count": 147,
   "metadata": {},
   "outputs": [
    {
     "data": {
      "text/plain": [
       "<Axes: title={'center': 'Acquiring Institution Code Frequency Plot'}, ylabel='count'>"
      ]
     },
     "execution_count": 147,
     "metadata": {},
     "output_type": "execute_result"
    },
    {
     "data": {
      "image/png": "[encoded data removed]",
      "text/plain": [
       "<Figure size 640x480 with 1 Axes>"
      ]
     },
     "metadata": {},
     "output_type": "display_data"
    }
   ],
   "source": [
    "time_acqic[:].plot(kind = \"barh\", title = \"Acquiring Institution Code Frequency Plot\")"
   ]
  },
  {
   "cell_type": "markdown",
   "metadata": {},
   "source": [
    "### MCC Code, mcc_code"
   ]
  },
  {
   "cell_type": "code",
   "execution_count": 167,
   "metadata": {},
   "outputs": [],
   "source": [
    "def get_mcc_category(mcc_code):\n",
    "    mcc_code = int(mcc_code)\n",
    "    \n",
    "    if 1 <= mcc_code <= 99:\n",
    "        return \"mcc1\"\n",
    "    elif 100 <= mcc_code <= 199:\n",
    "        return \"mcc2\"\n",
    "    elif 200 <= mcc_code <= 299:\n",
    "        return \"mcc3\"  # You can continue this pattern for other ranges if needed\n",
    "    elif 300 <= mcc_code <= 399:\n",
    "        return \"mcc4\"\n",
    "    elif 400 <= mcc_code <= 499:\n",
    "        return \"mcc5\"\n",
    "    else:\n",
    "        return \"unknown\""
   ]
  },
  {
   "cell_type": "code",
   "execution_count": 168,
   "metadata": {},
   "outputs": [],
   "source": [
    "data[\"mcc_cat\"] = data[\"mcc\"].fillna(0).apply(get_mcc_category)"
   ]
  },
  {
   "cell_type": "code",
   "execution_count": 170,
   "metadata": {},
   "outputs": [
    {
     "data": {
      "text/plain": [
       "mcc_cat\n",
       "mcc3       4446950\n",
       "mcc4       3009610\n",
       "mcc5       1203595\n",
       "unknown      13369\n",
       "mcc1         13018\n",
       "mcc2          1984\n",
       "Name: count, dtype: int64"
      ]
     },
     "execution_count": 170,
     "metadata": {},
     "output_type": "execute_result"
    }
   ],
   "source": [
    "data[\"mcc_cat\"].value_counts()"
   ]
  },
  {
   "cell_type": "markdown",
   "metadata": {},
   "source": [
    "### Transaction Amount in TWD, conam"
   ]
  },
  {
   "cell_type": "code",
   "execution_count": 173,
   "metadata": {},
   "outputs": [
    {
     "data": {
      "text/plain": [
       "count    8.688526e+06\n",
       "mean     1.418676e+03\n",
       "std      9.518751e+03\n",
       "min      0.000000e+00\n",
       "25%      1.050000e+02\n",
       "50%      3.150000e+02\n",
       "75%      9.000000e+02\n",
       "max      5.051970e+06\n",
       "Name: conam, dtype: float64"
      ]
     },
     "execution_count": 173,
     "metadata": {},
     "output_type": "execute_result"
    }
   ],
   "source": [
    "data.conam.describe()"
   ]
  },
  {
   "cell_type": "code",
   "execution_count": 181,
   "metadata": {},
   "outputs": [
    {
     "data": {
      "text/plain": [
       "Text(0.5, 1.0, 'Log Transaction Amount in TWD Histogram')"
      ]
     },
     "execution_count": 181,
     "metadata": {},
     "output_type": "execute_result"
    },
    {
     "data": {
      "image/png": "[encoded data removed]",
      "text/plain": [
       "<Figure size 640x480 with 1 Axes>"
      ]
     },
     "metadata": {},
     "output_type": "display_data"
    }
   ],
   "source": [
    "plt.hist(data[\"conam\"], bins = 100, log = True)\n",
    "plt.title(\"Log Transaction Amount in TWD Histogram\")"
   ]
  },
  {
   "cell_type": "markdown",
   "metadata": {},
   "source": [
    "### Online Transaction Indicator, ecfg"
   ]
  },
  {
   "cell_type": "code",
   "execution_count": 188,
   "metadata": {},
   "outputs": [
    {
     "data": {
      "text/plain": [
       "<Axes: title={'center': 'Online Transaction Indicator'}, ylabel='count'>"
      ]
     },
     "execution_count": 188,
     "metadata": {},
     "output_type": "execute_result"
    },
    {
     "data": {
      "image/png": "[encoded data removed]",
      "text/plain": [
       "<Figure size 640x480 with 1 Axes>"
      ]
     },
     "metadata": {},
     "output_type": "display_data"
    }
   ],
   "source": [
    "data[\"ecfg\"].value_counts().plot(kind = \"pie\", title = \"Online Transaction Indicator\")"
   ]
  },
  {
   "cell_type": "markdown",
   "metadata": {},
   "source": [
    "### Installment Transaction Indicator, insfg"
   ]
  },
  {
   "cell_type": "code",
   "execution_count": 191,
   "metadata": {},
   "outputs": [
    {
     "data": {
      "text/plain": [
       "insfg\n",
       "0    8596544\n",
       "1      91982\n",
       "Name: count, dtype: int64"
      ]
     },
     "execution_count": 191,
     "metadata": {},
     "output_type": "execute_result"
    }
   ],
   "source": [
    "data[\"insfg\"].value_counts()"
   ]
  },
  {
   "cell_type": "markdown",
   "metadata": {},
   "source": [
    "### Installment Period, iterm"
   ]
  },
  {
   "cell_type": "code",
   "execution_count": 194,
   "metadata": {},
   "outputs": [
    {
     "data": {
      "text/plain": [
       "iterm\n",
       "0.0     8596569\n",
       "3.0       41811\n",
       "6.0       37699\n",
       "12.0       6749\n",
       "24.0       2050\n",
       "5.0         809\n",
       "10.0        639\n",
       "30.0        596\n",
       "9.0         540\n",
       "8.0         488\n",
       "18.0        298\n",
       "13.0        248\n",
       "1.0          17\n",
       "15.0         13\n",
       "Name: count, dtype: int64"
      ]
     },
     "execution_count": 194,
     "metadata": {},
     "output_type": "execute_result"
    }
   ],
   "source": [
    "data[\"iterm\"].value_counts()"
   ]
  },
  {
   "cell_type": "markdown",
   "metadata": {},
   "source": [
    "### Bonus Transaction Indicator, bnsfg"
   ]
  },
  {
   "cell_type": "code",
   "execution_count": 196,
   "metadata": {},
   "outputs": [
    {
     "data": {
      "text/plain": [
       "bnsfg\n",
       "0    8677468\n",
       "1      11058\n",
       "Name: count, dtype: int64"
      ]
     },
     "execution_count": 196,
     "metadata": {},
     "output_type": "execute_result"
    }
   ],
   "source": [
    "data[\"bnsfg\"].value_counts()"
   ]
  },
  {
   "cell_type": "markdown",
   "metadata": {},
   "source": [
    "### Actual Payment Amount, flam1"
   ]
  },
  {
   "cell_type": "code",
   "execution_count": 201,
   "metadata": {},
   "outputs": [
    {
     "data": {
      "text/plain": [
       "(array([8.666635e+06, 1.606000e+04, 3.183000e+03, 1.167000e+03,\n",
       "        4.810000e+02, 3.700000e+02, 1.510000e+02, 9.000000e+01,\n",
       "        4.500000e+01, 8.000000e+01, 6.000000e+01, 2.800000e+01,\n",
       "        2.000000e+01, 1.300000e+01, 1.300000e+01, 9.000000e+00,\n",
       "        9.000000e+00, 5.000000e+00, 2.000000e+00, 3.100000e+01,\n",
       "        1.400000e+01, 1.000000e+01, 5.000000e+00, 5.000000e+00,\n",
       "        2.000000e+00, 1.000000e+00, 1.000000e+00, 0.000000e+00,\n",
       "        0.000000e+00, 3.000000e+00, 3.000000e+00, 1.000000e+00,\n",
       "        1.000000e+00, 1.000000e+00, 0.000000e+00, 0.000000e+00,\n",
       "        1.000000e+00, 2.000000e+00, 2.000000e+00, 4.000000e+00,\n",
       "        2.000000e+00, 1.000000e+00, 0.000000e+00, 1.000000e+00,\n",
       "        0.000000e+00, 0.000000e+00, 0.000000e+00, 0.000000e+00,\n",
       "        0.000000e+00, 1.000000e+00, 0.000000e+00, 1.000000e+00,\n",
       "        1.000000e+00, 0.000000e+00, 0.000000e+00, 0.000000e+00,\n",
       "        0.000000e+00, 0.000000e+00, 0.000000e+00, 3.000000e+00,\n",
       "        2.000000e+00, 0.000000e+00, 0.000000e+00, 0.000000e+00,\n",
       "        0.000000e+00, 0.000000e+00, 0.000000e+00, 0.000000e+00,\n",
       "        0.000000e+00, 0.000000e+00, 0.000000e+00, 0.000000e+00,\n",
       "        1.000000e+00, 0.000000e+00, 0.000000e+00, 0.000000e+00,\n",
       "        0.000000e+00, 0.000000e+00, 0.000000e+00, 0.000000e+00,\n",
       "        0.000000e+00, 0.000000e+00, 0.000000e+00, 0.000000e+00,\n",
       "        0.000000e+00, 0.000000e+00, 0.000000e+00, 0.000000e+00,\n",
       "        0.000000e+00, 0.000000e+00, 0.000000e+00, 1.000000e+00,\n",
       "        0.000000e+00, 0.000000e+00, 0.000000e+00, 0.000000e+00,\n",
       "        0.000000e+00, 0.000000e+00, 0.000000e+00, 4.000000e+00]),\n",
       " array([      0.  ,   50327.73,  100655.46,  150983.19,  201310.92,\n",
       "         251638.65,  301966.38,  352294.11,  402621.84,  452949.57,\n",
       "         503277.3 ,  553605.03,  603932.76,  654260.49,  704588.22,\n",
       "         754915.95,  805243.68,  855571.41,  905899.14,  956226.87,\n",
       "        1006554.6 , 1056882.33, 1107210.06, 1157537.79, 1207865.52,\n",
       "        1258193.25, 1308520.98, 1358848.71, 1409176.44, 1459504.17,\n",
       "        1509831.9 , 1560159.63, 1610487.36, 1660815.09, 1711142.82,\n",
       "        1761470.55, 1811798.28, 1862126.01, 1912453.74, 1962781.47,\n",
       "        2013109.2 , 2063436.93, 2113764.66, 2164092.39, 2214420.12,\n",
       "        2264747.85, 2315075.58, 2365403.31, 2415731.04, 2466058.77,\n",
       "        2516386.5 , 2566714.23, 2617041.96, 2667369.69, 2717697.42,\n",
       "        2768025.15, 2818352.88, 2868680.61, 2919008.34, 2969336.07,\n",
       "        3019663.8 , 3069991.53, 3120319.26, 3170646.99, 3220974.72,\n",
       "        3271302.45, 3321630.18, 3371957.91, 3422285.64, 3472613.37,\n",
       "        3522941.1 , 3573268.83, 3623596.56, 3673924.29, 3724252.02,\n",
       "        3774579.75, 3824907.48, 3875235.21, 3925562.94, 3975890.67,\n",
       "        4026218.4 , 4076546.13, 4126873.86, 4177201.59, 4227529.32,\n",
       "        4277857.05, 4328184.78, 4378512.51, 4428840.24, 4479167.97,\n",
       "        4529495.7 , 4579823.43, 4630151.16, 4680478.89, 4730806.62,\n",
       "        4781134.35, 4831462.08, 4881789.81, 4932117.54, 4982445.27,\n",
       "        5032773.  ]),\n",
       " <BarContainer object of 100 artists>)"
      ]
     },
     "execution_count": 201,
     "metadata": {},
     "output_type": "execute_result"
    },
    {
     "data": {
      "image/png": "[encoded data removed]",
      "text/plain": [
       "<Figure size 640x480 with 1 Axes>"
      ]
     },
     "metadata": {},
     "output_type": "display_data"
    }
   ],
   "source": [
    "plt.hist(data[\"flam1\"], bins = 100, log = True)\n",
    "plt.title(\"Log Actual Payment Amount Histogram\")"
   ]
  },
  {
   "cell_type": "code",
   "execution_count": 202,
   "metadata": {},
   "outputs": [],
   "source": [
    "### Consumption Country Code, stocn"
   ]
  },
  {
   "cell_type": "code",
   "execution_count": 203,
   "metadata": {},
   "outputs": [
    {
     "data": {
      "text/plain": [
       "stocn\n",
       "0.0      7827990\n",
       "126.0     292409\n",
       "54.0      207011\n",
       "42.0      114421\n",
       "113.0      89760\n",
       "          ...   \n",
       "1.0            1\n",
       "125.0          1\n",
       "23.0           1\n",
       "19.0           1\n",
       "18.0           1\n",
       "Name: count, Length: 122, dtype: int64"
      ]
     },
     "execution_count": 203,
     "metadata": {},
     "output_type": "execute_result"
    }
   ],
   "source": [
    "data[\"stocn\"].value_counts()  # taiwan is 0"
   ]
  },
  {
   "cell_type": "markdown",
   "metadata": {},
   "source": [
    "### Consumption City Code, scity"
   ]
  },
  {
   "cell_type": "code",
   "execution_count": 205,
   "metadata": {},
   "outputs": [
    {
     "data": {
      "text/plain": [
       "count\n",
       "1          5291\n",
       "2          2085\n",
       "3           934\n",
       "4           590\n",
       "5           377\n",
       "           ... \n",
       "183163        1\n",
       "191376        1\n",
       "244079        1\n",
       "505054        1\n",
       "4646717       1\n",
       "Name: count, Length: 433, dtype: int64"
      ]
     },
     "execution_count": 205,
     "metadata": {},
     "output_type": "execute_result"
    }
   ],
   "source": [
    "data[\"scity\"].value_counts().value_counts().sort_index()"
   ]
  },
  {
   "cell_type": "markdown",
   "metadata": {},
   "source": [
    "### Status Code, stscd"
   ]
  },
  {
   "cell_type": "code",
   "execution_count": 208,
   "metadata": {},
   "outputs": [
    {
     "data": {
      "text/plain": [
       "stscd\n",
       "1.0    22385\n",
       "0.0      799\n",
       "2.0      132\n",
       "4.0       13\n",
       "3.0        2\n",
       "Name: count, dtype: int64"
      ]
     },
     "execution_count": 208,
     "metadata": {},
     "output_type": "execute_result"
    }
   ],
   "source": [
    "data[\"stscd\"].value_counts()"
   ]
  },
  {
   "cell_type": "code",
   "execution_count": 210,
   "metadata": {},
   "outputs": [
    {
     "name": "stdout",
     "output_type": "stream",
     "text": [
      "Number of Status Code is NA: 8665195\n"
     ]
    }
   ],
   "source": [
    "n_stscd_na = data[\"stscd\"].isna().sum()\n",
    "print(f\"Number of Status Code is NA: {n_stscd_na}\")"
   ]
  },
  {
   "cell_type": "markdown",
   "metadata": {},
   "source": [
    "### Overlimit Indicator Code, ovrlt"
   ]
  },
  {
   "cell_type": "code",
   "execution_count": 212,
   "metadata": {},
   "outputs": [
    {
     "data": {
      "text/plain": [
       "ovrlt\n",
       "0    8603884\n",
       "1      84642\n",
       "Name: count, dtype: int64"
      ]
     },
     "execution_count": 212,
     "metadata": {},
     "output_type": "execute_result"
    }
   ],
   "source": [
    "data[\"ovrlt\"].value_counts()"
   ]
  },
  {
   "cell_type": "markdown",
   "metadata": {},
   "source": [
    "### Fallback Indicator, flbmk"
   ]
  },
  {
   "cell_type": "code",
   "execution_count": 213,
   "metadata": {},
   "outputs": [
    {
     "data": {
      "text/plain": [
       "flbmk\n",
       "0    8685869\n",
       "1       2657\n",
       "Name: count, dtype: int64"
      ]
     },
     "execution_count": 213,
     "metadata": {},
     "output_type": "execute_result"
    }
   ],
   "source": [
    "data[\"flbmk\"].value_counts()"
   ]
  },
  {
   "cell_type": "markdown",
   "metadata": {},
   "source": [
    "### Payment Type, hcefg"
   ]
  },
  {
   "cell_type": "code",
   "execution_count": 214,
   "metadata": {},
   "outputs": [
    {
     "data": {
      "text/plain": [
       "hcefg\n",
       "6.0     7321872\n",
       "0.0      758808\n",
       "1.0      184851\n",
       "3.0       51551\n",
       "8.0       35638\n",
       "9.0       35320\n",
       "7.0       10696\n",
       "5.0        2479\n",
       "4.0         490\n",
       "2.0         159\n",
       "10.0          6\n",
       "Name: count, dtype: int64"
      ]
     },
     "execution_count": 214,
     "metadata": {},
     "output_type": "execute_result"
    }
   ],
   "source": [
    "data[\"hcefg\"].value_counts()"
   ]
  },
  {
   "cell_type": "markdown",
   "metadata": {},
   "source": [
    "### Consumption Currency Code, csmcu"
   ]
  },
  {
   "cell_type": "code",
   "execution_count": 215,
   "metadata": {},
   "outputs": [
    {
     "data": {
      "text/plain": [
       "csmcu\n",
       "70.0    7947443\n",
       "68.0     122569\n",
       "81.0      27575\n",
       "29.0      27074\n",
       "76.0      12450\n",
       "         ...   \n",
       "80.0          2\n",
       "5.0           1\n",
       "21.0          1\n",
       "83.0          1\n",
       "4.0           1\n",
       "Name: count, Length: 79, dtype: int64"
      ]
     },
     "execution_count": 215,
     "metadata": {},
     "output_type": "execute_result"
    }
   ],
   "source": [
    "data[\"csmcu\"].value_counts()"
   ]
  },
  {
   "cell_type": "markdown",
   "metadata": {},
   "source": [
    "### Consumption Amount, csmam"
   ]
  },
  {
   "cell_type": "code",
   "execution_count": 218,
   "metadata": {},
   "outputs": [
    {
     "data": {
      "text/plain": [
       "Text(0.5, 1.0, 'Log Consumption Amount Histogram')"
      ]
     },
     "execution_count": 218,
     "metadata": {},
     "output_type": "execute_result"
    },
    {
     "data": {
      "image/png": "[encoded data removed]",
      "text/plain": [
       "<Figure size 640x480 with 1 Axes>"
      ]
     },
     "metadata": {},
     "output_type": "display_data"
    }
   ],
   "source": [
    "data[\"csmam\"].hist(bins = 100, log = True)\n",
    "plt.title(\"Log Consumption Amount Histogram\")"
   ]
  },
  {
   "cell_type": "markdown",
   "metadata": {},
   "source": [
    "### 3D Transaction Indicator, flag3dsmk"
   ]
  },
  {
   "cell_type": "code",
   "execution_count": 219,
   "metadata": {},
   "outputs": [
    {
     "data": {
      "text/plain": [
       "flg_3dsmk\n",
       "0    7947335\n",
       "1     741191\n",
       "Name: count, dtype: int64"
      ]
     },
     "execution_count": 219,
     "metadata": {},
     "output_type": "execute_result"
    }
   ],
   "source": [
    "data[\"flg_3dsmk\"].value_counts()"
   ]
  },
  {
   "cell_type": "markdown",
   "metadata": {},
   "source": [
    "### Fraudulent Transaction Indicator, label"
   ]
  },
  {
   "cell_type": "code",
   "execution_count": 220,
   "metadata": {},
   "outputs": [
    {
     "data": {
      "text/plain": [
       "label\n",
       "0    8656497\n",
       "1      32029\n",
       "Name: count, dtype: int64"
      ]
     },
     "execution_count": 220,
     "metadata": {},
     "output_type": "execute_result"
    }
   ],
   "source": [
    "data[\"label\"].value_counts()"
   ]
  },
  {
   "cell_type": "code",
   "execution_count": 221,
   "metadata": {},
   "outputs": [
    {
     "data": {
      "text/html": [
       "<div>\n",
       "<style scoped>\n",
       "    .dataframe tbody tr th:only-of-type {\n",
       "        vertical-align: middle;\n",
       "    }\n",
       "\n",
       "    .dataframe tbody tr th {\n",
       "        vertical-align: top;\n",
       "    }\n",
       "\n",
       "    .dataframe thead th {\n",
       "        text-align: right;\n",
       "    }\n",
       "</style>\n",
       "<table border=\"1\" class=\"dataframe\">\n",
       "  <thead>\n",
       "    <tr style=\"text-align: right;\">\n",
       "      <th></th>\n",
       "      <th>txkey</th>\n",
       "      <th>locdt</th>\n",
       "      <th>loctm</th>\n",
       "      <th>chid</th>\n",
       "      <th>cano</th>\n",
       "      <th>contp</th>\n",
       "      <th>etymd</th>\n",
       "      <th>mchno</th>\n",
       "      <th>acqic</th>\n",
       "      <th>mcc</th>\n",
       "      <th>...</th>\n",
       "      <th>stscd</th>\n",
       "      <th>ovrlt</th>\n",
       "      <th>flbmk</th>\n",
       "      <th>hcefg</th>\n",
       "      <th>csmcu</th>\n",
       "      <th>csmam</th>\n",
       "      <th>flg_3dsmk</th>\n",
       "      <th>label</th>\n",
       "      <th>combined_datetime</th>\n",
       "      <th>mcc_cat</th>\n",
       "    </tr>\n",
       "  </thead>\n",
       "  <tbody>\n",
       "    <tr>\n",
       "      <th>318</th>\n",
       "      <td>7773d6012a013a75d57891ba6dd96f464e04720b9d699c...</td>\n",
       "      <td>2023-10-02</td>\n",
       "      <td>19:04:57</td>\n",
       "      <td>daa8a8317da29b57bdf4038e4f8fd0045abf6e243ef674...</td>\n",
       "      <td>729e7c22f215b148059aad0c3330c42229a19a9c903a30...</td>\n",
       "      <td>5</td>\n",
       "      <td>5.0</td>\n",
       "      <td>8e0715389f1c3cd9adcced919dbb1f1c92f8dafd05e297...</td>\n",
       "      <td>0da01078a40a585345bd9d206baa06d04a3922f49dbb4c...</td>\n",
       "      <td>482.0</td>\n",
       "      <td>...</td>\n",
       "      <td>NaN</td>\n",
       "      <td>0</td>\n",
       "      <td>0</td>\n",
       "      <td>6.0</td>\n",
       "      <td>70.0</td>\n",
       "      <td>5752</td>\n",
       "      <td>0</td>\n",
       "      <td>1</td>\n",
       "      <td>2023-10-02 19:04:57</td>\n",
       "      <td>mcc5</td>\n",
       "    </tr>\n",
       "    <tr>\n",
       "      <th>339</th>\n",
       "      <td>cded61d4f4c719c1a418e8348509763f1591b6f7f7d3f7...</td>\n",
       "      <td>2023-11-20</td>\n",
       "      <td>20:48:14</td>\n",
       "      <td>aeb7e3ab2215c11b34efeee8fa5c1a72742b7489ba56c8...</td>\n",
       "      <td>6e24b73cc930180063defee19fdbb7387c08de69402679...</td>\n",
       "      <td>5</td>\n",
       "      <td>8.0</td>\n",
       "      <td>45b6cb170af96950ffd009b6275bb22f5f5b052687d237...</td>\n",
       "      <td>c6a68a6677409cd8b8e909a2b2766ed5f26668e9862631...</td>\n",
       "      <td>324.0</td>\n",
       "      <td>...</td>\n",
       "      <td>1.0</td>\n",
       "      <td>0</td>\n",
       "      <td>0</td>\n",
       "      <td>6.0</td>\n",
       "      <td>70.0</td>\n",
       "      <td>33</td>\n",
       "      <td>0</td>\n",
       "      <td>1</td>\n",
       "      <td>2023-11-20 20:48:14</td>\n",
       "      <td>mcc4</td>\n",
       "    </tr>\n",
       "    <tr>\n",
       "      <th>881</th>\n",
       "      <td>78bcabfbe831b5057b5be29501e50c3e95a0f777146f8c...</td>\n",
       "      <td>2023-10-21</td>\n",
       "      <td>04:30:49</td>\n",
       "      <td>3066a98db35965f368b6512e276c4c3f955fa1fba549c2...</td>\n",
       "      <td>0100b4635ad916e18bf45695ae16253ceb91f95877ff96...</td>\n",
       "      <td>5</td>\n",
       "      <td>8.0</td>\n",
       "      <td>b253ccf9c434f01d5846178c20f59770d766f353a1c778...</td>\n",
       "      <td>7ea0f4070f276e8b279de9149f68786379d6dc6f22a094...</td>\n",
       "      <td>276.0</td>\n",
       "      <td>...</td>\n",
       "      <td>1.0</td>\n",
       "      <td>0</td>\n",
       "      <td>0</td>\n",
       "      <td>6.0</td>\n",
       "      <td>68.0</td>\n",
       "      <td>0</td>\n",
       "      <td>0</td>\n",
       "      <td>1</td>\n",
       "      <td>2023-10-21 04:30:49</td>\n",
       "      <td>mcc3</td>\n",
       "    </tr>\n",
       "    <tr>\n",
       "      <th>1576</th>\n",
       "      <td>8722c91641e9c08e31fd94bf094be60f6bc10df05c6b84...</td>\n",
       "      <td>2023-11-18</td>\n",
       "      <td>21:33:35</td>\n",
       "      <td>504690b6f6fdd4c27124319b5321866b67337ef27f6d74...</td>\n",
       "      <td>f89d9e642995c0d4a37c9caefd0414e51d0b1e74828d5d...</td>\n",
       "      <td>5</td>\n",
       "      <td>5.0</td>\n",
       "      <td>8fea3ea4c8f8fcb2897d04ebe7bcab255ed0667ee64c3d...</td>\n",
       "      <td>e3871e67cc9ec2fe2cb87aee527916320011d36ecea9c1...</td>\n",
       "      <td>390.0</td>\n",
       "      <td>...</td>\n",
       "      <td>NaN</td>\n",
       "      <td>0</td>\n",
       "      <td>0</td>\n",
       "      <td>6.0</td>\n",
       "      <td>81.0</td>\n",
       "      <td>38</td>\n",
       "      <td>0</td>\n",
       "      <td>1</td>\n",
       "      <td>2023-11-18 21:33:35</td>\n",
       "      <td>mcc4</td>\n",
       "    </tr>\n",
       "    <tr>\n",
       "      <th>1598</th>\n",
       "      <td>21c86f81f00a2aa393f649a1b189254b89d8c5afa292b3...</td>\n",
       "      <td>2023-10-16</td>\n",
       "      <td>21:34:13</td>\n",
       "      <td>184d4a1082c12a7678c692770ef87a0dfcec07c253dc75...</td>\n",
       "      <td>15135e9adc9e8726e14d9bf7d405085e0f6ad7a5384c2b...</td>\n",
       "      <td>5</td>\n",
       "      <td>5.0</td>\n",
       "      <td>c91612f3ba877a29a666cd46fab188786f589bdf762177...</td>\n",
       "      <td>be45a208827a6053177338a0a414f2a2a47f9646c42c58...</td>\n",
       "      <td>324.0</td>\n",
       "      <td>...</td>\n",
       "      <td>1.0</td>\n",
       "      <td>0</td>\n",
       "      <td>0</td>\n",
       "      <td>6.0</td>\n",
       "      <td>70.0</td>\n",
       "      <td>1797</td>\n",
       "      <td>0</td>\n",
       "      <td>1</td>\n",
       "      <td>2023-10-16 21:34:13</td>\n",
       "      <td>mcc4</td>\n",
       "    </tr>\n",
       "    <tr>\n",
       "      <th>...</th>\n",
       "      <td>...</td>\n",
       "      <td>...</td>\n",
       "      <td>...</td>\n",
       "      <td>...</td>\n",
       "      <td>...</td>\n",
       "      <td>...</td>\n",
       "      <td>...</td>\n",
       "      <td>...</td>\n",
       "      <td>...</td>\n",
       "      <td>...</td>\n",
       "      <td>...</td>\n",
       "      <td>...</td>\n",
       "      <td>...</td>\n",
       "      <td>...</td>\n",
       "      <td>...</td>\n",
       "      <td>...</td>\n",
       "      <td>...</td>\n",
       "      <td>...</td>\n",
       "      <td>...</td>\n",
       "      <td>...</td>\n",
       "      <td>...</td>\n",
       "    </tr>\n",
       "    <tr>\n",
       "      <th>8686800</th>\n",
       "      <td>d00b17a3c71c968e7ff511fe1c0b2915a72aacab5a3e04...</td>\n",
       "      <td>2023-11-19</td>\n",
       "      <td>03:39:14</td>\n",
       "      <td>eff2a413fddd460ddefcb186e4775f815c938bc2f92176...</td>\n",
       "      <td>1a55443b737a54230e0c3069167d02a59c8b2456caa9d9...</td>\n",
       "      <td>5</td>\n",
       "      <td>8.0</td>\n",
       "      <td>be65bda7376198327a41ae452b4a8d670fb82d70adc708...</td>\n",
       "      <td>23c27dd987158a60ae9ae09a369a38650479f8d09f8a42...</td>\n",
       "      <td>324.0</td>\n",
       "      <td>...</td>\n",
       "      <td>1.0</td>\n",
       "      <td>0</td>\n",
       "      <td>0</td>\n",
       "      <td>6.0</td>\n",
       "      <td>70.0</td>\n",
       "      <td>50</td>\n",
       "      <td>0</td>\n",
       "      <td>1</td>\n",
       "      <td>2023-11-19 03:39:14</td>\n",
       "      <td>mcc4</td>\n",
       "    </tr>\n",
       "    <tr>\n",
       "      <th>8686969</th>\n",
       "      <td>459a285e001dfed37e213fcd9a2b46373796a686ad4ab5...</td>\n",
       "      <td>2023-10-28</td>\n",
       "      <td>10:03:01</td>\n",
       "      <td>4ac6885f906d965c02b68fd47757d360eacce11d91be21...</td>\n",
       "      <td>140d32f86dff24e04f3766cf127d24706a0516ae903f34...</td>\n",
       "      <td>4</td>\n",
       "      <td>5.0</td>\n",
       "      <td>9504a99e5d6aba04a98373ba3dc3dbf61aafcb78b2a8dc...</td>\n",
       "      <td>33d25c5a639595625b14c2803597c5c32fbdc93ff04113...</td>\n",
       "      <td>352.0</td>\n",
       "      <td>...</td>\n",
       "      <td>NaN</td>\n",
       "      <td>0</td>\n",
       "      <td>0</td>\n",
       "      <td>6.0</td>\n",
       "      <td>70.0</td>\n",
       "      <td>773</td>\n",
       "      <td>0</td>\n",
       "      <td>1</td>\n",
       "      <td>2023-10-28 10:03:01</td>\n",
       "      <td>mcc4</td>\n",
       "    </tr>\n",
       "    <tr>\n",
       "      <th>8687406</th>\n",
       "      <td>d445af80114da7348d32dfcf0cef49d2fdfee3effdaa36...</td>\n",
       "      <td>2023-10-16</td>\n",
       "      <td>09:57:53</td>\n",
       "      <td>499734f4ca9457b66fd90432398d6485bb6619517f2cb6...</td>\n",
       "      <td>4586ccaf109d8573183e566f3f17e9e95e96cac5e3d234...</td>\n",
       "      <td>4</td>\n",
       "      <td>1.0</td>\n",
       "      <td>376eb9b31fcc9b78d9fca9c1b4962c6bfb173ec29f72e2...</td>\n",
       "      <td>87bb2c3786f575b9b24f5fa9487d8c3de4b79abe537bd0...</td>\n",
       "      <td>353.0</td>\n",
       "      <td>...</td>\n",
       "      <td>NaN</td>\n",
       "      <td>0</td>\n",
       "      <td>0</td>\n",
       "      <td>6.0</td>\n",
       "      <td>68.0</td>\n",
       "      <td>0</td>\n",
       "      <td>0</td>\n",
       "      <td>1</td>\n",
       "      <td>2023-10-16 09:57:53</td>\n",
       "      <td>mcc4</td>\n",
       "    </tr>\n",
       "    <tr>\n",
       "      <th>8687798</th>\n",
       "      <td>179f57a3ca3a9a7f629162322d97a34655fdb34ea9963d...</td>\n",
       "      <td>2023-11-15</td>\n",
       "      <td>06:37:07</td>\n",
       "      <td>a1373ef76a9679d7626b7df3df6db3490d74889aedfdea...</td>\n",
       "      <td>155189178c7d1be2a44189562210c9acc479666c3fc180...</td>\n",
       "      <td>5</td>\n",
       "      <td>1.0</td>\n",
       "      <td>45b6cb170af96950ffd009b6275bb22f5f5b052687d237...</td>\n",
       "      <td>839aa8d49064459ddd81fcb39ca4e3420577b8faa0db91...</td>\n",
       "      <td>324.0</td>\n",
       "      <td>...</td>\n",
       "      <td>NaN</td>\n",
       "      <td>0</td>\n",
       "      <td>0</td>\n",
       "      <td>6.0</td>\n",
       "      <td>70.0</td>\n",
       "      <td>491</td>\n",
       "      <td>0</td>\n",
       "      <td>1</td>\n",
       "      <td>2023-11-15 06:37:07</td>\n",
       "      <td>mcc4</td>\n",
       "    </tr>\n",
       "    <tr>\n",
       "      <th>8688516</th>\n",
       "      <td>566b990ac3203d04a540514bfb564015ed17efdf12bfee...</td>\n",
       "      <td>2023-10-14</td>\n",
       "      <td>13:45:21</td>\n",
       "      <td>2cabc231f95b3f39fa6a1a9d87820d84a0ef069d2f4b06...</td>\n",
       "      <td>81ed93b6755ef906104561dbba6ee3d3c648fcd071c6d8...</td>\n",
       "      <td>5</td>\n",
       "      <td>5.0</td>\n",
       "      <td>4cb7bdd953cec465af9df353c75d412e7c233845a348bc...</td>\n",
       "      <td>52b79f0447deb7cb7707b9cee98427e789ea42ffa89271...</td>\n",
       "      <td>324.0</td>\n",
       "      <td>...</td>\n",
       "      <td>1.0</td>\n",
       "      <td>0</td>\n",
       "      <td>0</td>\n",
       "      <td>6.0</td>\n",
       "      <td>70.0</td>\n",
       "      <td>781</td>\n",
       "      <td>0</td>\n",
       "      <td>1</td>\n",
       "      <td>2023-10-14 13:45:21</td>\n",
       "      <td>mcc4</td>\n",
       "    </tr>\n",
       "  </tbody>\n",
       "</table>\n",
       "<p>32029 rows × 28 columns</p>\n",
       "</div>"
      ],
      "text/plain": [
       "                                                     txkey      locdt  \\\n",
       "318      7773d6012a013a75d57891ba6dd96f464e04720b9d699c... 2023-10-02   \n",
       "339      cded61d4f4c719c1a418e8348509763f1591b6f7f7d3f7... 2023-11-20   \n",
       "881      78bcabfbe831b5057b5be29501e50c3e95a0f777146f8c... 2023-10-21   \n",
       "1576     8722c91641e9c08e31fd94bf094be60f6bc10df05c6b84... 2023-11-18   \n",
       "1598     21c86f81f00a2aa393f649a1b189254b89d8c5afa292b3... 2023-10-16   \n",
       "...                                                    ...        ...   \n",
       "8686800  d00b17a3c71c968e7ff511fe1c0b2915a72aacab5a3e04... 2023-11-19   \n",
       "8686969  459a285e001dfed37e213fcd9a2b46373796a686ad4ab5... 2023-10-28   \n",
       "8687406  d445af80114da7348d32dfcf0cef49d2fdfee3effdaa36... 2023-10-16   \n",
       "8687798  179f57a3ca3a9a7f629162322d97a34655fdb34ea9963d... 2023-11-15   \n",
       "8688516  566b990ac3203d04a540514bfb564015ed17efdf12bfee... 2023-10-14   \n",
       "\n",
       "            loctm                                               chid  \\\n",
       "318      19:04:57  daa8a8317da29b57bdf4038e4f8fd0045abf6e243ef674...   \n",
       "339      20:48:14  aeb7e3ab2215c11b34efeee8fa5c1a72742b7489ba56c8...   \n",
       "881      04:30:49  3066a98db35965f368b6512e276c4c3f955fa1fba549c2...   \n",
       "1576     21:33:35  504690b6f6fdd4c27124319b5321866b67337ef27f6d74...   \n",
       "1598     21:34:13  184d4a1082c12a7678c692770ef87a0dfcec07c253dc75...   \n",
       "...           ...                                                ...   \n",
       "8686800  03:39:14  eff2a413fddd460ddefcb186e4775f815c938bc2f92176...   \n",
       "8686969  10:03:01  4ac6885f906d965c02b68fd47757d360eacce11d91be21...   \n",
       "8687406  09:57:53  499734f4ca9457b66fd90432398d6485bb6619517f2cb6...   \n",
       "8687798  06:37:07  a1373ef76a9679d7626b7df3df6db3490d74889aedfdea...   \n",
       "8688516  13:45:21  2cabc231f95b3f39fa6a1a9d87820d84a0ef069d2f4b06...   \n",
       "\n",
       "                                                      cano  contp  etymd  \\\n",
       "318      729e7c22f215b148059aad0c3330c42229a19a9c903a30...      5    5.0   \n",
       "339      6e24b73cc930180063defee19fdbb7387c08de69402679...      5    8.0   \n",
       "881      0100b4635ad916e18bf45695ae16253ceb91f95877ff96...      5    8.0   \n",
       "1576     f89d9e642995c0d4a37c9caefd0414e51d0b1e74828d5d...      5    5.0   \n",
       "1598     15135e9adc9e8726e14d9bf7d405085e0f6ad7a5384c2b...      5    5.0   \n",
       "...                                                    ...    ...    ...   \n",
       "8686800  1a55443b737a54230e0c3069167d02a59c8b2456caa9d9...      5    8.0   \n",
       "8686969  140d32f86dff24e04f3766cf127d24706a0516ae903f34...      4    5.0   \n",
       "8687406  4586ccaf109d8573183e566f3f17e9e95e96cac5e3d234...      4    1.0   \n",
       "8687798  155189178c7d1be2a44189562210c9acc479666c3fc180...      5    1.0   \n",
       "8688516  81ed93b6755ef906104561dbba6ee3d3c648fcd071c6d8...      5    5.0   \n",
       "\n",
       "                                                     mchno  \\\n",
       "318      8e0715389f1c3cd9adcced919dbb1f1c92f8dafd05e297...   \n",
       "339      45b6cb170af96950ffd009b6275bb22f5f5b052687d237...   \n",
       "881      b253ccf9c434f01d5846178c20f59770d766f353a1c778...   \n",
       "1576     8fea3ea4c8f8fcb2897d04ebe7bcab255ed0667ee64c3d...   \n",
       "1598     c91612f3ba877a29a666cd46fab188786f589bdf762177...   \n",
       "...                                                    ...   \n",
       "8686800  be65bda7376198327a41ae452b4a8d670fb82d70adc708...   \n",
       "8686969  9504a99e5d6aba04a98373ba3dc3dbf61aafcb78b2a8dc...   \n",
       "8687406  376eb9b31fcc9b78d9fca9c1b4962c6bfb173ec29f72e2...   \n",
       "8687798  45b6cb170af96950ffd009b6275bb22f5f5b052687d237...   \n",
       "8688516  4cb7bdd953cec465af9df353c75d412e7c233845a348bc...   \n",
       "\n",
       "                                                     acqic    mcc  ...  stscd  \\\n",
       "318      0da01078a40a585345bd9d206baa06d04a3922f49dbb4c...  482.0  ...    NaN   \n",
       "339      c6a68a6677409cd8b8e909a2b2766ed5f26668e9862631...  324.0  ...    1.0   \n",
       "881      7ea0f4070f276e8b279de9149f68786379d6dc6f22a094...  276.0  ...    1.0   \n",
       "1576     e3871e67cc9ec2fe2cb87aee527916320011d36ecea9c1...  390.0  ...    NaN   \n",
       "1598     be45a208827a6053177338a0a414f2a2a47f9646c42c58...  324.0  ...    1.0   \n",
       "...                                                    ...    ...  ...    ...   \n",
       "8686800  23c27dd987158a60ae9ae09a369a38650479f8d09f8a42...  324.0  ...    1.0   \n",
       "8686969  33d25c5a639595625b14c2803597c5c32fbdc93ff04113...  352.0  ...    NaN   \n",
       "8687406  87bb2c3786f575b9b24f5fa9487d8c3de4b79abe537bd0...  353.0  ...    NaN   \n",
       "8687798  839aa8d49064459ddd81fcb39ca4e3420577b8faa0db91...  324.0  ...    NaN   \n",
       "8688516  52b79f0447deb7cb7707b9cee98427e789ea42ffa89271...  324.0  ...    1.0   \n",
       "\n",
       "         ovrlt  flbmk  hcefg  csmcu  csmam  flg_3dsmk  label  \\\n",
       "318          0      0    6.0   70.0   5752          0      1   \n",
       "339          0      0    6.0   70.0     33          0      1   \n",
       "881          0      0    6.0   68.0      0          0      1   \n",
       "1576         0      0    6.0   81.0     38          0      1   \n",
       "1598         0      0    6.0   70.0   1797          0      1   \n",
       "...        ...    ...    ...    ...    ...        ...    ...   \n",
       "8686800      0      0    6.0   70.0     50          0      1   \n",
       "8686969      0      0    6.0   70.0    773          0      1   \n",
       "8687406      0      0    6.0   68.0      0          0      1   \n",
       "8687798      0      0    6.0   70.0    491          0      1   \n",
       "8688516      0      0    6.0   70.0    781          0      1   \n",
       "\n",
       "          combined_datetime  mcc_cat  \n",
       "318     2023-10-02 19:04:57     mcc5  \n",
       "339     2023-11-20 20:48:14     mcc4  \n",
       "881     2023-10-21 04:30:49     mcc3  \n",
       "1576    2023-11-18 21:33:35     mcc4  \n",
       "1598    2023-10-16 21:34:13     mcc4  \n",
       "...                     ...      ...  \n",
       "8686800 2023-11-19 03:39:14     mcc4  \n",
       "8686969 2023-10-28 10:03:01     mcc4  \n",
       "8687406 2023-10-16 09:57:53     mcc4  \n",
       "8687798 2023-11-15 06:37:07     mcc4  \n",
       "8688516 2023-10-14 13:45:21     mcc4  \n",
       "\n",
       "[32029 rows x 28 columns]"
      ]
     },
     "execution_count": 221,
     "metadata": {},
     "output_type": "execute_result"
    }
   ],
   "source": [
    "data[data[\"label\"] == 1]"
   ]
  },
  {
   "cell_type": "code",
   "execution_count": null,
   "metadata": {},
   "outputs": [],
   "source": []
  }
 ],
 "metadata": {
  "kernelspec": {
   "display_name": "Python 3",
   "language": "python",
   "name": "python3"
  },
  "language_info": {
   "codemirror_mode": {
    "name": "ipython",
    "version": 3
   },
   "file_extension": ".py",
   "mimetype": "text/x-python",
   "name": "python",
   "nbconvert_exporter": "python",
   "pygments_lexer": "ipython3",
   "version": "3.11.5"
  }
 },
 "nbformat": 4,
 "nbformat_minor": 2
}
